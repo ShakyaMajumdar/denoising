{
 "cells": [
  {
   "cell_type": "code",
   "execution_count": 39,
   "metadata": {},
   "outputs": [],
   "source": [
    "from gmm_denoiser import GMMDenoiser\n",
    "from regularized_denoisers import denoise_l2\n",
    "from skimage.restoration import denoise_wavelet\n",
    "from utils import *\n",
    "import pandas as pd\n",
    "import numpy as np\n",
    "import matplotlib.pyplot as plt\n",
    "\n",
    "%matplotlib inline"
   ]
  },
  {
   "cell_type": "code",
   "execution_count": 40,
   "metadata": {},
   "outputs": [],
   "source": [
    "df = pd.read_excel(\"data/PD data.xlsx\")"
   ]
  },
  {
   "cell_type": "code",
   "execution_count": 41,
   "metadata": {},
   "outputs": [],
   "source": [
    "train_signals = [\n",
    "    np.array(df[\"s1sensor1\"]),\n",
    "    np.array(df[\"s1sensor2\"]),\n",
    "    np.array(df[\"s1sensor3\"]),\n",
    "    np.array(df[\"s1sensor4\"]),\n",
    "    np.array(df[\"s1sensor5\"]),\n",
    "]"
   ]
  },
  {
   "cell_type": "code",
   "execution_count": 42,
   "metadata": {},
   "outputs": [],
   "source": [
    "test_signals = [\n",
    "    np.array(df[\"s2sensor1\"]),\n",
    "    np.array(df[\"s2sensor2\"]),\n",
    "    np.array(df[\"s2sensor3\"]),\n",
    "    np.array(df[\"s2sensor4\"]),\n",
    "    np.array(df[\"s2sensor5\"]),\n",
    "]"
   ]
  },
  {
   "cell_type": "code",
   "execution_count": 43,
   "metadata": {},
   "outputs": [],
   "source": [
    "test_snrs = [-10, -5, 0, 5, 10]\n",
    "denoisers = [\"none\", \"wavelet\", \"dae\", \"gmm\"]\n",
    "results = np.zeros((len(test_signals), len(test_snrs), len(denoisers), len(test_signals[0])))"
   ]
  },
  {
   "cell_type": "code",
   "execution_count": 53,
   "metadata": {},
   "outputs": [
    {
     "name": "stdout",
     "output_type": "stream",
     "text": [
      "Epoch 1/10\n"
     ]
    },
    {
     "name": "stdout",
     "output_type": "stream",
     "text": [
      "30/30 [==============================] - 1s 6ms/step - loss: 0.0572\n",
      "Epoch 2/10\n",
      "30/30 [==============================] - 0s 7ms/step - loss: 0.0256\n",
      "Epoch 3/10\n",
      "30/30 [==============================] - 0s 6ms/step - loss: 0.0165\n",
      "Epoch 4/10\n",
      "30/30 [==============================] - 0s 6ms/step - loss: 0.0108\n",
      "Epoch 5/10\n",
      "30/30 [==============================] - 0s 7ms/step - loss: 0.0119\n",
      "Epoch 6/10\n",
      "30/30 [==============================] - 0s 7ms/step - loss: 0.0109\n",
      "Epoch 7/10\n",
      "30/30 [==============================] - 0s 7ms/step - loss: 0.0098\n",
      "Epoch 8/10\n",
      "30/30 [==============================] - 0s 6ms/step - loss: 0.0103\n",
      "Epoch 9/10\n",
      "30/30 [==============================] - 0s 6ms/step - loss: 0.0132\n",
      "Epoch 10/10\n",
      "30/30 [==============================] - 0s 6ms/step - loss: 0.0102\n",
      "Epoch 1/10\n",
      "30/30 [==============================] - 2s 30ms/step - loss: 0.0432\n",
      "Epoch 2/10\n",
      "30/30 [==============================] - 1s 29ms/step - loss: 0.0112\n",
      "Epoch 3/10\n",
      "30/30 [==============================] - 1s 30ms/step - loss: 0.0093\n",
      "Epoch 4/10\n",
      "30/30 [==============================] - 1s 29ms/step - loss: 0.0069\n",
      "Epoch 5/10\n",
      "30/30 [==============================] - 1s 29ms/step - loss: 0.0053\n",
      "Epoch 6/10\n",
      "30/30 [==============================] - 1s 31ms/step - loss: 0.0047\n",
      "Epoch 7/10\n",
      "30/30 [==============================] - 1s 29ms/step - loss: 0.0051\n",
      "Epoch 8/10\n",
      "30/30 [==============================] - 1s 32ms/step - loss: 0.0055\n",
      "Epoch 9/10\n",
      "30/30 [==============================] - 1s 29ms/step - loss: 0.0050\n",
      "Epoch 10/10\n",
      "30/30 [==============================] - 1s 30ms/step - loss: 0.0035\n"
     ]
    },
    {
     "data": {
      "text/plain": [
       "<keras.src.callbacks.History at 0x7f769df13ac0>"
      ]
     },
     "execution_count": 53,
     "metadata": {},
     "output_type": "execute_result"
    }
   ],
   "source": [
    "import keras\n",
    "model_old = keras.Sequential([\n",
    "    keras.layers.Input(shape=(2500, 1)),\n",
    "    keras.layers.Conv1D(filters=32, kernel_size=9, activation=\"relu\", padding=\"same\"),\n",
    "    keras.layers.MaxPooling1D(2),\n",
    "    keras.layers.Conv1D(filters=32, kernel_size=9, activation=\"relu\", padding=\"same\"),\n",
    "    keras.layers.MaxPooling1D(2),\n",
    "\n",
    "    keras.layers.Conv1DTranspose(filters=32, kernel_size=9, strides=2, activation=\"relu\", padding=\"same\"),\n",
    "    keras.layers.Conv1DTranspose(filters=32, kernel_size=9, strides=2, activation=\"relu\", padding=\"same\"),\n",
    "    keras.layers.Conv1D(1, 9, padding=\"same\")\n",
    "])\n",
    "model_old.compile(optimizer=\"adam\", loss=\"mse\")\n",
    "\n",
    "model = keras.Sequential([\n",
    "    keras.layers.Input(shape=(2500, 1)),\n",
    "    keras.layers.Conv1D(filters=32, kernel_size=150, activation=\"relu\", padding=\"same\"),\n",
    "    keras.layers.MaxPooling1D(2),\n",
    "    keras.layers.Conv1D(filters=32, kernel_size=10, activation=\"relu\", padding=\"same\"),\n",
    "    keras.layers.MaxPooling1D(2),\n",
    "\n",
    "    keras.layers.Conv1DTranspose(filters=32, kernel_size=10, strides=2, activation=\"relu\", padding=\"same\"),\n",
    "    keras.layers.Conv1DTranspose(filters=32, kernel_size=150, strides=2, activation=\"relu\", padding=\"same\"),\n",
    "    keras.layers.Conv1D(1, 9, padding=\"same\")\n",
    "])\n",
    "model.compile(optimizer=\"adam\", loss=\"mse\")\n",
    "\n",
    "model_X = []; model_y = []\n",
    "for ts in train_signals:\n",
    "    model_X.append(ts)\n",
    "    model_y.append(ts)\n",
    "    for snr in [-10, -5, 0, 5, 10]:\n",
    "      model_X.append(awgn(ts, snr))\n",
    "      model_y.append(ts)\n",
    "model_X = np.array(model_X).reshape(30, 2500, 1)\n",
    "model_y = np.array(model_y).reshape(30, 2500, 1)\n",
    "\n",
    "model_old.fit(model_X, model_y, batch_size=1, epochs=10)\n",
    "# model.summary()\n",
    "model.fit(model_X, model_y, batch_size=1, epochs=10)\n"
   ]
  },
  {
   "cell_type": "code",
   "execution_count": 45,
   "metadata": {},
   "outputs": [],
   "source": [
    "denoiser = GMMDenoiser(gmm_n_components=10, patch_size=150, train_signals=train_signals)\n",
    "denoiser.fit()"
   ]
  },
  {
   "cell_type": "code",
   "execution_count": 54,
   "metadata": {},
   "outputs": [
    {
     "name": "stdout",
     "output_type": "stream",
     "text": [
      "0 0\n",
      "0 1\n",
      "0 2\n",
      "0 3\n",
      "0 4\n",
      "1 0\n",
      "1 1\n",
      "1 2\n",
      "1 3\n",
      "1 4\n",
      "2 0\n",
      "2 1\n",
      "2 2\n",
      "2 3\n",
      "2 4\n",
      "3 0\n",
      "3 1\n",
      "3 2\n",
      "3 3\n",
      "3 4\n",
      "4 0\n",
      "4 1\n",
      "4 2\n",
      "4 3\n",
      "4 4\n"
     ]
    }
   ],
   "source": [
    "for i, nf in enumerate(test_signals):\n",
    "    for j, snr in enumerate(test_snrs):\n",
    "        print(i, j)\n",
    "        ns = awgn(nf, snr)\n",
    "        results[i, j, 0, :] = ns\n",
    "        results[i, j, 1, :] = denoise_wavelet(ns, method=\"BayesShrink\", mode=\"soft\", wavelet_levels=3, wavelet=\"sym8\", rescale_sigma=\"True\")\n",
    "        # results[i, j, 2, :] = np.array(model_old(ns.reshape(2500, 1).reshape(1, -1))).reshape((2500,))\n",
    "        results[i, j, 2, :] = np.array(model(ns.reshape(2500, 1).reshape(1, -1))).reshape((2500,))\n",
    "        results[i, j, 3, :] = denoiser.denoise(ns, snr_db_est=snr)\n"
   ]
  },
  {
   "cell_type": "code",
   "execution_count": 55,
   "metadata": {},
   "outputs": [
    {
     "name": "stdout",
     "output_type": "stream",
     "text": [
      "    method     |  snr   |  psnr  |  mse   |  ssim  |   tv   \n",
      "none           |   -9.88|    2.38|  3.3362|  0.0047|  5167.6\n",
      "wavelet        |   -0.68|   11.58|  0.4012|  0.1501|   292.8\n",
      "dae            |    8.04|   20.30|  0.0539|  0.5226|    77.0\n",
      "gmm            |    9.71|   21.97|  0.0367|  0.6978|    46.5\n",
      "------------------------------------------------------------\n",
      "none           |   -5.12|    7.14|  1.1148|  0.0153|  2981.7\n",
      "wavelet        |    4.25|   16.51|  0.1289|  0.3108|   197.9\n",
      "dae            |   13.49|   25.75|  0.0154|  0.8547|    63.3\n",
      "gmm            |   14.20|   26.46|  0.0131|  0.8365|    48.0\n",
      "------------------------------------------------------------\n",
      "none           |   -0.05|   12.21|  0.3474|  0.0530|  1673.8\n",
      "wavelet        |    8.64|   20.90|  0.0470|  0.5360|   109.0\n",
      "dae            |   14.86|   27.12|  0.0112|  0.8864|    55.0\n",
      "gmm            |   14.83|   27.09|  0.0113|  0.8421|    50.9\n",
      "------------------------------------------------------------\n",
      "none           |    5.12|   17.38|  0.1055|  0.1809|   915.4\n",
      "wavelet        |   14.71|   26.97|  0.0116|  0.7952|    72.0\n",
      "dae            |   14.93|   27.19|  0.0110|  0.9092|    52.1\n",
      "gmm            |   22.79|   35.05|  0.0018|  0.9585|    53.7\n",
      "------------------------------------------------------------\n",
      "none           |   10.09|   22.35|  0.0336|  0.4012|   514.8\n",
      "wavelet        |   19.33|   31.59|  0.0040|  0.8970|    61.3\n",
      "dae            |   16.76|   29.01|  0.0072|  0.9561|    53.1\n",
      "gmm            |   25.84|   38.10|  0.0009|  0.9786|    53.6\n",
      "------------------------------------------------------------\n",
      "none           |  -10.02|    2.88|  0.8309|  0.0033|  2547.8\n",
      "wavelet        |   -1.29|   11.61|  0.1114|  0.1122|   158.3\n",
      "dae            |   11.12|   24.03|  0.0064|  0.7164|    37.8\n",
      "gmm            |    7.11|   20.01|  0.0161|  0.5350|    25.5\n",
      "------------------------------------------------------------\n",
      "none           |   -4.81|    8.09|  0.2503|  0.0145|  1426.4\n",
      "wavelet        |    4.42|   17.32|  0.0299|  0.3530|    84.4\n",
      "dae            |   12.38|   25.28|  0.0048|  0.8178|    32.5\n",
      "gmm            |   13.15|   26.06|  0.0040|  0.7807|    25.4\n",
      "------------------------------------------------------------\n",
      "none           |   -0.12|   12.79|  0.0849|  0.0581|   811.7\n",
      "wavelet        |    8.77|   21.67|  0.0110|  0.5409|    55.6\n",
      "dae            |   14.19|   27.09|  0.0031|  0.8595|    30.4\n",
      "gmm            |   15.40|   28.30|  0.0024|  0.8697|    26.1\n",
      "------------------------------------------------------------\n",
      "none           |    4.98|   17.89|  0.0262|  0.1708|   455.0\n",
      "wavelet        |   13.80|   26.70|  0.0034|  0.7501|    39.4\n",
      "dae            |   15.99|   28.90|  0.0021|  0.9222|    29.3\n",
      "gmm            |   21.77|   34.68|  0.0005|  0.9600|    26.7\n",
      "------------------------------------------------------------\n",
      "none           |   10.02|   22.92|  0.0082|  0.3904|   257.4\n",
      "wavelet        |   19.47|   32.38|  0.0009|  0.8944|    30.7\n",
      "dae            |   15.48|   28.38|  0.0023|  0.9302|    28.3\n",
      "gmm            |   25.57|   38.48|  0.0002|  0.9698|    27.2\n",
      "------------------------------------------------------------\n",
      "none           |   -9.95|    2.30|  0.5729|  0.0030|  2128.0\n",
      "wavelet        |   -0.95|   11.29|  0.0722|  0.1135|   124.3\n",
      "dae            |    8.74|   20.98|  0.0078|  0.6178|    32.4\n",
      "gmm            |    8.15|   20.39|  0.0089|  0.5430|    19.4\n",
      "------------------------------------------------------------\n",
      "none           |   -4.72|    7.52|  0.1720|  0.0135|  1151.2\n",
      "wavelet        |    3.74|   15.98|  0.0245|  0.2683|    73.0\n",
      "dae            |   10.75|   22.99|  0.0049|  0.7232|    24.2\n",
      "gmm            |   11.79|   24.03|  0.0038|  0.6644|    21.0\n",
      "------------------------------------------------------------\n",
      "none           |    0.13|   12.38|  0.0563|  0.0585|   681.4\n",
      "wavelet        |    9.65|   21.89|  0.0063|  0.5310|    41.7\n",
      "dae            |   13.63|   25.88|  0.0025|  0.8334|    23.2\n",
      "gmm            |   17.28|   29.52|  0.0011|  0.8395|    20.9\n",
      "------------------------------------------------------------\n",
      "none           |    4.97|   17.21|  0.0185|  0.1597|   387.2\n",
      "wavelet        |   14.59|   26.84|  0.0020|  0.6948|    31.1\n",
      "dae            |   15.49|   27.73|  0.0016|  0.8981|    22.8\n",
      "gmm            |   21.61|   33.85|  0.0004|  0.8930|    20.3\n",
      "------------------------------------------------------------\n",
      "none           |    9.94|   22.19|  0.0059|  0.3838|   216.1\n",
      "wavelet        |   18.69|   30.94|  0.0008|  0.8490|    25.4\n",
      "dae            |   16.04|   28.29|  0.0014|  0.9026|    22.8\n",
      "gmm            |   24.69|   36.93|  0.0002|  0.9548|    20.9\n",
      "------------------------------------------------------------\n",
      "none           |  -10.03|    1.64|  0.7277|  0.0029|  2419.2\n",
      "wavelet        |   -0.79|   10.88|  0.0867|  0.1434|   143.5\n",
      "dae            |    7.51|   19.17|  0.0128|  0.6282|    36.4\n",
      "gmm            |    8.75|   20.42|  0.0096|  0.6600|    23.3\n",
      "------------------------------------------------------------\n",
      "none           |   -5.11|    6.55|  0.2346|  0.0123|  1379.0\n",
      "wavelet        |    4.08|   15.74|  0.0283|  0.3066|    77.5\n",
      "dae            |   10.50|   22.17|  0.0064|  0.8047|    28.6\n",
      "gmm            |   12.71|   24.37|  0.0039|  0.7576|    25.9\n",
      "------------------------------------------------------------\n",
      "none           |    0.15|   11.81|  0.0699|  0.0532|   737.6\n",
      "wavelet        |    9.11|   20.77|  0.0089|  0.4983|    50.8\n",
      "dae            |   15.06|   26.72|  0.0023|  0.8937|    27.2\n",
      "gmm            |   16.91|   28.58|  0.0015|  0.8554|    23.3\n",
      "------------------------------------------------------------\n",
      "none           |    4.73|   16.39|  0.0244|  0.1450|   435.9\n",
      "wavelet        |   13.37|   25.04|  0.0033|  0.6975|    37.4\n",
      "dae            |   16.26|   27.92|  0.0017|  0.9253|    26.6\n",
      "gmm            |   19.12|   30.79|  0.0009|  0.9201|    24.2\n",
      "------------------------------------------------------------\n",
      "none           |    9.97|   21.64|  0.0073|  0.3620|   242.1\n",
      "wavelet        |   18.78|   30.45|  0.0010|  0.8540|    28.9\n",
      "dae            |   16.29|   27.96|  0.0017|  0.9147|    26.4\n",
      "gmm            |   24.91|   36.57|  0.0002|  0.9547|    25.0\n",
      "------------------------------------------------------------\n",
      "none           |   -9.96|    0.98|  1.4362|  0.0030|  3429.7\n",
      "wavelet        |   -0.57|   10.37|  0.1652|  0.1866|   175.4\n",
      "dae            |    7.82|   18.76|  0.0239|  0.6984|    50.2\n",
      "gmm            |    9.38|   20.32|  0.0167|  0.7373|    34.5\n",
      "------------------------------------------------------------\n",
      "none           |   -4.95|    5.99|  0.4526|  0.0122|  1903.8\n",
      "wavelet        |    3.85|   14.79|  0.0597|  0.2919|   116.1\n",
      "dae            |   11.59|   22.53|  0.0101|  0.8132|    42.4\n",
      "gmm            |   12.36|   23.30|  0.0084|  0.7698|    36.5\n",
      "------------------------------------------------------------\n",
      "none           |    0.09|   11.02|  0.1421|  0.0507|  1066.5\n",
      "wavelet        |    9.10|   20.04|  0.0178|  0.5450|    72.3\n",
      "dae            |   15.83|   26.76|  0.0038|  0.8859|    43.7\n",
      "gmm            |   17.52|   28.46|  0.0026|  0.8977|    37.3\n",
      "------------------------------------------------------------\n",
      "none           |    4.90|   15.83|  0.0469|  0.1509|   618.2\n",
      "wavelet        |   13.81|   24.75|  0.0060|  0.7558|    52.1\n",
      "dae            |   15.91|   26.84|  0.0037|  0.8955|    41.9\n",
      "gmm            |   21.09|   32.02|  0.0011|  0.9314|    38.9\n",
      "------------------------------------------------------------\n",
      "none           |   10.17|   21.11|  0.0139|  0.3731|   334.7\n",
      "wavelet        |   19.36|   30.30|  0.0017|  0.8914|    44.7\n",
      "dae            |   16.07|   27.00|  0.0036|  0.9164|    41.2\n",
      "gmm            |   26.61|   37.55|  0.0003|  0.9793|    38.9\n",
      "------------------------------------------------------------\n"
     ]
    }
   ],
   "source": [
    "print(f\"{'method':^15}|{'snr':^8}|{'psnr':^8}|{'mse':^8}|{'ssim':^8}|{'tv':^8}\")\n",
    "csv_s = f\"{'method':^15}|{'snr':^8}|{'psnr':^8}|{'mse':^8}|{'ssim':^8}|{'tv':^8}\".replace(\"|\",\",\").replace(\" \", \"\")\n",
    "metrics = [\"snr\", \"psnr\", \"mse\", \"ssim\", \"tv\"]\n",
    "metric_arr = np.zeros((len(test_signals), len(test_snrs), len(denoisers), len(metrics)))\n",
    "for i, nf in enumerate(test_signals):\n",
    "    for j, snr in enumerate(test_snrs):\n",
    "        ns = results[i, j, 0]\n",
    "        for k, (name, dns) in enumerate(zip(denoisers, results[i, j])):\n",
    "            metric_arr[i, j, k, 0] = calc_snr(nf, dns)\n",
    "            metric_arr[i, j, k, 1] = psnr(nf, dns)\n",
    "            metric_arr[i, j, k, 2] = mse(nf, dns)\n",
    "            metric_arr[i, j, k, 3] = ssim(nf, dns)\n",
    "            metric_arr[i, j, k, 4] = tv(dns)\n",
    "            print(f\"{name:<15}|{calc_snr(nf, dns):>8.2f}|{psnr(nf, dns):>8.2f}|{mse(nf, dns):>8.4f}|{ssim(nf, dns):>8.4f}|{tv(dns):>8.1f}\")\n",
    "            csv_s += f\"\\n{name:<15}|{calc_snr(nf, dns):>8.2f}|{psnr(nf, dns):>8.2f}|{mse(nf, dns):>8.4f}|{ssim(nf, dns):>8.4f}|{tv(dns):>8.1f}\".replace(\"|\",\",\").replace(\" \", \"\")\n",
    "        print(\"-\"*60)\n"
   ]
  },
  {
   "cell_type": "code",
   "execution_count": 56,
   "metadata": {},
   "outputs": [
    {
     "name": "stdout",
     "output_type": "stream",
     "text": [
      "0 0\n"
     ]
    },
    {
     "name": "stdout",
     "output_type": "stream",
     "text": [
      "0 1\n",
      "0 2\n",
      "0 3\n",
      "0 4\n",
      "1 0\n",
      "1 1\n",
      "1 2\n",
      "1 3\n",
      "1 4\n",
      "2 0\n",
      "2 1\n",
      "2 2\n",
      "2 3\n",
      "2 4\n",
      "3 0\n",
      "3 1\n",
      "3 2\n",
      "3 3\n",
      "3 4\n",
      "4 0\n",
      "4 1\n",
      "4 2\n",
      "4 3\n",
      "4 4\n"
     ]
    },
    {
     "data": {
      "text/plain": [
       "<contextlib.ExitStack at 0x7f769c276ce0>"
      ]
     },
     "execution_count": 56,
     "metadata": {},
     "output_type": "execute_result"
    }
   ],
   "source": [
    "plt.ioff()\n",
    "import pathlib\n",
    "pathlib.Path(\"out/pd_out/persigsnr\").mkdir(exist_ok=True, parents=True)\n",
    "for i, nf in enumerate(test_signals):\n",
    "    for j, snr in enumerate(test_snrs):\n",
    "        print(i, j)\n",
    "        fig, axs = plt.subplots(1, 4, figsize=(12, 3))\n",
    "        axs[0].set_title(\"Noisy\")\n",
    "        axs[1].set_title(\"Wavelet Denoised\")\n",
    "        axs[2].set_title(\"DAE Denoised\")\n",
    "        axs[3].set_title(\"GMM Denoised\")\n",
    "        for k, dns in enumerate(results[i, j]):\n",
    "            axs[k].plot(dns, linewidth=0.5, label=(\"noisy\" if k == 0 else \"denoised\"))\n",
    "            axs[k].plot(nf, linewidth=0.5, label=\"clean\")\n",
    "            axs[k].text(0.5, 0.8, f\"snr = {calc_snr(nf, dns):.2f}\", transform=axs[k].transAxes)\n",
    "            axs[k].legend(loc=\"lower right\")\n",
    "        fig.savefig(f\"out/pd_out/persigsnr/sig{i}snr{snr}.png\")\n",
    "        plt.close(fig)\n",
    "plt.ion()\n"
   ]
  },
  {
   "cell_type": "code",
   "execution_count": 59,
   "metadata": {},
   "outputs": [],
   "source": [
    "with open(\"out/indices.csv\", \"w\") as f:\n",
    "    f.write(csv_s)"
   ]
  },
  {
   "cell_type": "code",
   "execution_count": 57,
   "metadata": {},
   "outputs": [
    {
     "name": "stdout",
     "output_type": "stream",
     "text": [
      "average increase in snr:\n",
      "original: -10; wavelet:  9.11; dae: 18.61; gmm: 18.59\n",
      "original:  -5; wavelet:  9.01; dae: 16.68; gmm: 17.78\n",
      "original:   0; wavelet:  9.01; dae: 14.67; gmm: 16.35\n",
      "original:   5; wavelet:  9.12; dae: 10.78; gmm: 16.34\n",
      "original:  10; wavelet:  9.09; dae:  6.09; gmm: 15.49\n"
     ]
    }
   ],
   "source": [
    "print(f\"average increase in snr:\")\n",
    "for j, snr in enumerate(test_snrs):\n",
    "    m_snrs = metric_arr[:, j, :, 0]\n",
    "    none, wav, dae, gmm = (m_snrs - m_snrs[:, 0].reshape(-1, 1)).mean(axis=0)\n",
    "    \n",
    "    print(f\"original: {snr:>3}; wavelet: {wav:>5.2f}; dae: {dae:>5.2f}; gmm: {gmm:>5.2f}\")\n",
    "    "
   ]
  },
  {
   "cell_type": "code",
   "execution_count": 58,
   "metadata": {},
   "outputs": [],
   "source": [
    "model.save(\"model.keras\")"
   ]
  },
  {
   "cell_type": "code",
   "execution_count": null,
   "metadata": {},
   "outputs": [],
   "source": []
  }
 ],
 "metadata": {
  "kernelspec": {
   "display_name": ".venv",
   "language": "python",
   "name": "python3"
  },
  "language_info": {
   "codemirror_mode": {
    "name": "ipython",
    "version": 3
   },
   "file_extension": ".py",
   "mimetype": "text/x-python",
   "name": "python",
   "nbconvert_exporter": "python",
   "pygments_lexer": "ipython3",
   "version": "3.10.8"
  },
  "orig_nbformat": 4
 },
 "nbformat": 4,
 "nbformat_minor": 2
}
