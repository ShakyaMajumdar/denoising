{
 "cells": [
  {
   "cell_type": "code",
   "execution_count": 6,
   "metadata": {},
   "outputs": [],
   "source": [
    "from gmm_denoiser import GMMDenoiser\n",
    "from regularized_denoisers import denoise_l2\n",
    "from skimage.restoration import denoise_wavelet\n",
    "from utils import *\n",
    "import pandas as pd\n",
    "import numpy as np\n",
    "import matplotlib.pyplot as plt\n",
    "\n",
    "%matplotlib inline"
   ]
  },
  {
   "cell_type": "code",
   "execution_count": 7,
   "metadata": {},
   "outputs": [],
   "source": [
    "df = pd.read_excel(\"data/PD data.xlsx\")"
   ]
  },
  {
   "cell_type": "code",
   "execution_count": 8,
   "metadata": {},
   "outputs": [],
   "source": [
    "train_signals = [\n",
    "    np.array(df[\"s1sensor1\"]),\n",
    "    np.array(df[\"s1sensor2\"]),\n",
    "    np.array(df[\"s1sensor3\"]),\n",
    "    np.array(df[\"s1sensor4\"]),\n",
    "    np.array(df[\"s1sensor5\"]),\n",
    "]"
   ]
  },
  {
   "cell_type": "code",
   "execution_count": 9,
   "metadata": {},
   "outputs": [],
   "source": [
    "denoiser = GMMDenoiser(gmm_n_components=10, patch_size=30, train_signals=train_signals)\n",
    "denoiser.fit()"
   ]
  },
  {
   "cell_type": "code",
   "execution_count": 10,
   "metadata": {},
   "outputs": [
    {
     "name": "stderr",
     "output_type": "stream",
     "text": [
      "2023-09-07 03:42:16.375037: I tensorflow/tsl/cuda/cudart_stub.cc:28] Could not find cuda drivers on your machine, GPU will not be used.\n",
      "2023-09-07 03:42:18.858879: I tensorflow/tsl/cuda/cudart_stub.cc:28] Could not find cuda drivers on your machine, GPU will not be used.\n",
      "2023-09-07 03:42:18.859933: I tensorflow/core/platform/cpu_feature_guard.cc:182] This TensorFlow binary is optimized to use available CPU instructions in performance-critical operations.\n",
      "To enable the following instructions: AVX2 FMA, in other operations, rebuild TensorFlow with the appropriate compiler flags.\n",
      "2023-09-07 03:42:19.941545: W tensorflow/compiler/tf2tensorrt/utils/py_utils.cc:38] TF-TRT Warning: Could not find TensorRT\n"
     ]
    },
    {
     "name": "stdout",
     "output_type": "stream",
     "text": [
      "Epoch 1/10\n",
      "24/30 [=======================>......] - ETA: 0s - loss: 0.0659"
     ]
    },
    {
     "name": "stderr",
     "output_type": "stream",
     "text": [
      "2023-09-07 03:42:23.451088: W tensorflow/tsl/framework/cpu_allocator_impl.cc:83] Allocation of 31680000 exceeds 10% of free system memory.\n",
      "2023-09-07 03:42:23.452953: W tensorflow/tsl/framework/cpu_allocator_impl.cc:83] Allocation of 28800000 exceeds 10% of free system memory.\n",
      "2023-09-07 03:42:23.454557: W tensorflow/tsl/framework/cpu_allocator_impl.cc:83] Allocation of 27360000 exceeds 10% of free system memory.\n",
      "2023-09-07 03:42:23.455326: W tensorflow/tsl/framework/cpu_allocator_impl.cc:83] Allocation of 28800000 exceeds 10% of free system memory.\n",
      "2023-09-07 03:42:23.462592: W tensorflow/tsl/framework/cpu_allocator_impl.cc:83] Allocation of 31680000 exceeds 10% of free system memory.\n"
     ]
    },
    {
     "name": "stdout",
     "output_type": "stream",
     "text": [
      "30/30 [==============================] - 1s 7ms/step - loss: 0.0610\n",
      "Epoch 2/10\n",
      "30/30 [==============================] - 0s 7ms/step - loss: 0.0273\n",
      "Epoch 3/10\n",
      "30/30 [==============================] - 0s 13ms/step - loss: 0.0164\n",
      "Epoch 4/10\n",
      "30/30 [==============================] - 0s 6ms/step - loss: 0.0115\n",
      "Epoch 5/10\n",
      "30/30 [==============================] - 0s 8ms/step - loss: 0.0107\n",
      "Epoch 6/10\n",
      "30/30 [==============================] - 0s 7ms/step - loss: 0.0108\n",
      "Epoch 7/10\n",
      "30/30 [==============================] - 0s 6ms/step - loss: 0.0098\n",
      "Epoch 8/10\n",
      "30/30 [==============================] - 0s 6ms/step - loss: 0.0099\n",
      "Epoch 9/10\n",
      "30/30 [==============================] - 0s 6ms/step - loss: 0.0099\n",
      "Epoch 10/10\n",
      "30/30 [==============================] - 0s 9ms/step - loss: 0.0104\n"
     ]
    },
    {
     "data": {
      "text/plain": [
       "<keras.src.callbacks.History at 0x7ff47f856770>"
      ]
     },
     "execution_count": 10,
     "metadata": {},
     "output_type": "execute_result"
    }
   ],
   "source": [
    "import keras\n",
    "model = keras.Sequential([\n",
    "    keras.layers.Input(shape=(2500, 1)),\n",
    "    keras.layers.Conv1D(filters=32, kernel_size=9, activation=\"relu\", padding=\"same\"),\n",
    "    keras.layers.MaxPooling1D(2),\n",
    "    keras.layers.Conv1D(filters=32, kernel_size=9, activation=\"relu\", padding=\"same\"),\n",
    "    keras.layers.MaxPooling1D(2),\n",
    "\n",
    "    keras.layers.Conv1DTranspose(filters=32, kernel_size=9, strides=2, activation=\"relu\", padding=\"same\"),\n",
    "    keras.layers.Conv1DTranspose(filters=32, kernel_size=9, strides=2, activation=\"relu\", padding=\"same\"),\n",
    "    keras.layers.Conv1D(1, 9, padding=\"same\")\n",
    "])\n",
    "model.compile(optimizer=\"adam\", loss=\"mse\")\n",
    "\n",
    "model_X = []; model_y = []\n",
    "for ts in train_signals:\n",
    "    model_X.append(ts)\n",
    "    model_y.append(ts)\n",
    "    for snr in [-10, -5, 0, 5, 10]:\n",
    "      model_X.append(awgn(ts, snr))\n",
    "      model_y.append(ts)\n",
    "model_X = np.array(model_X).reshape(30, 2500, 1)\n",
    "model_y = np.array(model_y).reshape(30, 2500, 1)\n",
    "model.fit(model_X, model_y, batch_size=1, epochs=10)"
   ]
  },
  {
   "cell_type": "code",
   "execution_count": 11,
   "metadata": {},
   "outputs": [],
   "source": [
    "test_signals = [\n",
    "    np.array(df[\"s2sensor1\"]),\n",
    "    np.array(df[\"s2sensor2\"]),\n",
    "    np.array(df[\"s2sensor3\"]),\n",
    "    np.array(df[\"s2sensor4\"]),\n",
    "    np.array(df[\"s2sensor5\"]),\n",
    "]"
   ]
  },
  {
   "cell_type": "code",
   "execution_count": 12,
   "metadata": {},
   "outputs": [],
   "source": [
    "test_snrs = [-10, -5, 0, 5, 10]\n",
    "denoisers = [\"none\", \"wavelet\", \"dae\", \"gmm\"]\n",
    "results = np.zeros((len(test_signals), len(test_snrs), len(denoisers), len(test_signals[0])))"
   ]
  },
  {
   "cell_type": "code",
   "execution_count": 13,
   "metadata": {},
   "outputs": [
    {
     "name": "stdout",
     "output_type": "stream",
     "text": [
      "0 0\n"
     ]
    },
    {
     "name": "stdout",
     "output_type": "stream",
     "text": [
      "0 1\n",
      "0 2\n",
      "0 3\n",
      "0 4\n",
      "1 0\n",
      "1 1\n",
      "1 2\n",
      "1 3\n",
      "1 4\n",
      "2 0\n",
      "2 1\n",
      "2 2\n",
      "2 3\n",
      "2 4\n",
      "3 0\n",
      "3 1\n",
      "3 2\n",
      "3 3\n",
      "3 4\n",
      "4 0\n",
      "4 1\n",
      "4 2\n",
      "4 3\n",
      "4 4\n"
     ]
    }
   ],
   "source": [
    "for i, nf in enumerate(test_signals):\n",
    "    for j, snr in enumerate(test_snrs):\n",
    "        print(i, j)\n",
    "        ns = awgn(nf, snr)\n",
    "        results[i, j, 0, :] = ns\n",
    "        results[i, j, 1, :] = denoise_wavelet(ns, method=\"BayesShrink\", mode=\"soft\", wavelet_levels=3, wavelet=\"sym8\", rescale_sigma=\"True\")\n",
    "        results[i, j, 2, :] = np.array(model(ns.reshape(2500, 1).reshape(1, -1))).reshape((2500,))\n",
    "        results[i, j, 3, :] = denoiser.denoise(ns, snr_db_est=snr)\n"
   ]
  },
  {
   "cell_type": "code",
   "execution_count": 14,
   "metadata": {},
   "outputs": [
    {
     "name": "stdout",
     "output_type": "stream",
     "text": [
      "    method     |  snr   |  psnr  |  mse   |  ssim  |   tv   \n",
      "none           |   -9.80|    2.46|  3.2754|  0.0036|  5085.3\n",
      "wavelet        |   -0.85|   11.41|  0.4172|  0.1916|   296.6\n",
      "dae            |    5.17|   17.43|  0.1044|  0.4289|   111.5\n",
      "gmm            |    4.06|   16.32|  0.1348|  0.3784|    31.2\n",
      "none           |   -5.06|    7.20|  1.1001|  0.0151|  2952.5\n",
      "wavelet        |    4.23|   16.49|  0.1296|  0.3090|   180.9\n",
      "dae            |    8.96|   21.22|  0.0436|  0.6408|    78.0\n",
      "gmm            |    8.24|   20.50|  0.0515|  0.6266|    41.6\n",
      "none           |    0.01|   12.27|  0.3425|  0.0600|  1643.3\n",
      "wavelet        |    9.06|   21.32|  0.0426|  0.5616|   112.7\n",
      "dae            |   13.36|   25.62|  0.0158|  0.8168|    66.0\n",
      "gmm            |   13.46|   25.72|  0.0155|  0.8157|    50.7\n",
      "none           |    5.02|   17.28|  0.1080|  0.1751|   939.0\n",
      "wavelet        |   14.46|   26.72|  0.0123|  0.7829|    73.1\n",
      "dae            |   14.82|   27.08|  0.0113|  0.8685|    58.4\n",
      "gmm            |   17.36|   29.62|  0.0063|  0.8926|    52.2\n",
      "none           |   10.06|   22.32|  0.0338|  0.3948|   519.4\n",
      "wavelet        |   18.54|   30.80|  0.0048|  0.8752|    61.6\n",
      "dae            |   16.50|   28.76|  0.0077|  0.9225|    56.3\n",
      "gmm            |   21.80|   34.06|  0.0023|  0.9374|    53.8\n",
      "none           |   -9.96|    2.94|  0.8195|  0.0030|  2619.9\n",
      "wavelet        |   -0.21|   12.69|  0.0868|  0.1447|   136.4\n",
      "dae            |    5.49|   18.39|  0.0234|  0.4565|    54.9\n",
      "gmm            |    5.62|   18.52|  0.0227|  0.4689|    23.9\n",
      "none           |   -4.90|    8.00|  0.2556|  0.0161|  1474.0\n",
      "wavelet        |    4.43|   17.33|  0.0298|  0.3503|    86.3\n",
      "dae            |    9.64|   22.54|  0.0090|  0.6761|    40.8\n",
      "gmm            |   10.07|   22.97|  0.0081|  0.6810|    26.2\n",
      "none           |    0.15|   13.05|  0.0799|  0.0628|   801.2\n",
      "wavelet        |    9.23|   22.14|  0.0099|  0.5572|    53.6\n",
      "dae            |   11.13|   24.03|  0.0064|  0.7662|    32.6\n",
      "gmm            |   13.35|   26.25|  0.0038|  0.7921|    26.5\n",
      "none           |    4.71|   17.61|  0.0280|  0.1596|   471.2\n",
      "wavelet        |   13.54|   26.44|  0.0037|  0.7282|    39.4\n",
      "dae            |   13.45|   26.35|  0.0037|  0.8321|    30.0\n",
      "gmm            |   17.35|   30.26|  0.0015|  0.8750|    26.6\n",
      "none           |    9.92|   22.82|  0.0084|  0.3827|   257.4\n",
      "wavelet        |   18.59|   31.49|  0.0011|  0.8796|    30.4\n",
      "dae            |   15.03|   27.93|  0.0026|  0.8877|    28.6\n",
      "gmm            |   21.92|   34.82|  0.0005|  0.9410|    26.8\n",
      "none           |  -10.06|    2.19|  0.5876|  0.0027|  2163.1\n",
      "wavelet        |   -0.81|   11.43|  0.0699|  0.1621|   124.9\n",
      "dae            |    6.51|   18.76|  0.0129|  0.5165|    48.2\n",
      "gmm            |    6.31|   18.56|  0.0135|  0.4922|    23.1\n",
      "none           |   -5.19|    7.05|  0.1917|  0.0146|  1238.0\n",
      "wavelet        |    3.96|   16.21|  0.0233|  0.3526|    71.6\n",
      "dae            |    8.79|   21.03|  0.0077|  0.6136|    33.4\n",
      "gmm            |    9.22|   21.47|  0.0069|  0.6247|    22.8\n",
      "none           |   -0.14|   12.11|  0.0599|  0.0514|   693.9\n",
      "wavelet        |    9.00|   21.24|  0.0073|  0.4774|    44.9\n",
      "dae            |   11.28|   23.52|  0.0043|  0.6201|    27.5\n",
      "gmm            |   13.45|   25.70|  0.0026|  0.6749|    21.3\n",
      "none           |    4.84|   17.08|  0.0190|  0.1611|   392.1\n",
      "wavelet        |   13.80|   26.05|  0.0024|  0.6874|    32.2\n",
      "dae            |   14.34|   26.58|  0.0021|  0.7932|    24.7\n",
      "gmm            |   17.56|   29.80|  0.0010|  0.8384|    21.3\n",
      "none           |   10.08|   22.32|  0.0057|  0.3779|   214.2\n",
      "wavelet        |   18.86|   31.11|  0.0008|  0.8390|    25.4\n",
      "dae            |   15.05|   27.29|  0.0018|  0.8422|    23.6\n",
      "gmm            |   22.05|   34.29|  0.0004|  0.9073|    21.5\n",
      "none           |  -10.06|    1.61|  0.7325|  0.0034|  2457.4\n",
      "wavelet        |   -0.82|   10.85|  0.0872|  0.1121|   150.6\n",
      "dae            |    5.20|   16.86|  0.0218|  0.4323|    51.7\n",
      "gmm            |    5.74|   17.41|  0.0193|  0.4523|    23.3\n",
      "none           |   -5.15|    6.51|  0.2369|  0.0130|  1363.3\n",
      "wavelet        |    3.23|   14.89|  0.0344|  0.2584|    88.4\n",
      "dae            |    8.54|   20.21|  0.0101|  0.5788|    37.3\n",
      "gmm            |    8.32|   19.98|  0.0107|  0.5613|    26.3\n",
      "none           |    0.02|   11.68|  0.0720|  0.0540|   766.5\n",
      "wavelet        |    9.04|   20.71|  0.0090|  0.5403|    48.4\n",
      "dae            |   11.03|   22.70|  0.0057|  0.7465|    30.9\n",
      "gmm            |   12.63|   24.29|  0.0039|  0.7603|    25.7\n",
      "none           |    4.82|   16.49|  0.0238|  0.1538|   434.9\n",
      "wavelet        |   14.11|   25.77|  0.0028|  0.7237|    37.0\n",
      "dae            |   13.67|   25.33|  0.0031|  0.8196|    28.5\n",
      "gmm            |   18.90|   30.57|  0.0009|  0.8975|    25.0\n",
      "none           |   10.13|   21.80|  0.0070|  0.3754|   236.7\n",
      "wavelet        |   18.85|   30.52|  0.0009|  0.8671|    28.3\n",
      "dae            |   14.63|   26.30|  0.0025|  0.8658|    26.6\n",
      "gmm            |   21.35|   33.01|  0.0005|  0.9204|    24.7\n",
      "none           |  -10.03|    0.91|  1.4595|  0.0035|  3371.1\n",
      "wavelet        |   -1.19|    9.74|  0.1909|  0.1358|   209.5\n",
      "dae            |    5.84|   16.78|  0.0378|  0.4998|    77.4\n",
      "gmm            |    6.12|   17.06|  0.0354|  0.5066|    32.0\n",
      "none           |   -5.12|    5.82|  0.4709|  0.0145|  1996.0\n",
      "wavelet        |    4.42|   15.36|  0.0524|  0.3680|   100.9\n",
      "dae            |    7.15|   18.09|  0.0279|  0.6300|    54.1\n",
      "gmm            |    8.11|   19.04|  0.0224|  0.6463|    36.0\n",
      "none           |    0.01|   10.95|  0.1445|  0.0531|  1064.0\n",
      "wavelet        |    8.54|   19.48|  0.0203|  0.5310|    73.5\n",
      "dae            |   11.06|   21.99|  0.0114|  0.7571|    45.1\n",
      "gmm            |   12.31|   23.25|  0.0085|  0.7558|    38.3\n",
      "none           |    4.79|   15.72|  0.0481|  0.1469|   618.6\n",
      "wavelet        |   13.35|   24.29|  0.0067|  0.7454|    53.2\n",
      "dae            |   14.09|   25.02|  0.0057|  0.8615|    42.4\n",
      "gmm            |   17.12|   28.06|  0.0028|  0.8733|    39.6\n",
      "none           |   10.01|   20.94|  0.0145|  0.3637|   337.2\n",
      "wavelet        |   18.62|   29.55|  0.0020|  0.8856|    45.5\n",
      "dae            |   15.12|   26.06|  0.0045|  0.8989|    40.6\n",
      "gmm            |   23.21|   34.14|  0.0007|  0.9599|    39.5\n"
     ]
    }
   ],
   "source": [
    "print(f\"{'method':^15}|{'snr':^8}|{'psnr':^8}|{'mse':^8}|{'ssim':^8}|{'tv':^8}\")\n",
    "csv_s = f\"{'method':^15}|{'snr':^8}|{'psnr':^8}|{'mse':^8}|{'ssim':^8}|{'tv':^8}\".replace(\"|\",\",\").replace(\" \", \"\")\n",
    "for i, nf in enumerate(test_signals):\n",
    "    for j, snr in enumerate(test_snrs):\n",
    "        ns = results[i, j, 0]\n",
    "        for name, dns in zip(denoisers, results[i, j]):\n",
    "            print(f\"{name:<15}|{calc_snr(nf, dns):>8.2f}|{psnr(nf, dns):>8.2f}|{mse(nf, dns):>8.4f}|{ssim(nf, dns):>8.4f}|{tv(dns):>8.1f}\")\n",
    "            csv_s += f\"\\n{name:<15}|{calc_snr(nf, dns):>8.2f}|{psnr(nf, dns):>8.2f}|{mse(nf, dns):>8.4f}|{ssim(nf, dns):>8.4f}|{tv(dns):>8.1f}\".replace(\"|\",\",\").replace(\" \", \"\")\n"
   ]
  },
  {
   "cell_type": "code",
   "execution_count": 16,
   "metadata": {},
   "outputs": [
    {
     "name": "stdout",
     "output_type": "stream",
     "text": [
      "0 0\n"
     ]
    },
    {
     "name": "stdout",
     "output_type": "stream",
     "text": [
      "0 1\n",
      "0 2\n",
      "0 3\n",
      "0 4\n",
      "1 0\n",
      "1 1\n",
      "1 2\n",
      "1 3\n",
      "1 4\n",
      "2 0\n",
      "2 1\n",
      "2 2\n",
      "2 3\n",
      "2 4\n",
      "3 0\n",
      "3 1\n",
      "3 2\n",
      "3 3\n",
      "3 4\n"
     ]
    },
    {
     "name": "stderr",
     "output_type": "stream",
     "text": [
      "/tmp/ipykernel_7332/273714997.py:7: RuntimeWarning: More than 20 figures have been opened. Figures created through the pyplot interface (`matplotlib.pyplot.figure`) are retained until explicitly closed and may consume too much memory. (To control this warning, see the rcParam `figure.max_open_warning`). Consider using `matplotlib.pyplot.close()`.\n",
      "  fig, axs = plt.subplots(1, 4, figsize=(12, 3))\n"
     ]
    },
    {
     "name": "stdout",
     "output_type": "stream",
     "text": [
      "4 0\n",
      "4 1\n",
      "4 2\n",
      "4 3\n",
      "4 4\n"
     ]
    },
    {
     "data": {
      "text/plain": [
       "<contextlib.ExitStack at 0x7ff464d4bca0>"
      ]
     },
     "execution_count": 16,
     "metadata": {},
     "output_type": "execute_result"
    }
   ],
   "source": [
    "plt.ioff()\n",
    "import pathlib\n",
    "pathlib.Path(\"out/pd_out/persigsnr\").mkdir(exist_ok=True, parents=True)\n",
    "for i, nf in enumerate(test_signals):\n",
    "    for j, snr in enumerate(test_snrs):\n",
    "        print(i, j)\n",
    "        fig, axs = plt.subplots(1, 4, figsize=(12, 3))\n",
    "        axs[0].set_title(\"Noisy\")\n",
    "        axs[1].set_title(\"Wavelet Denoised\")\n",
    "        axs[2].set_title(\"DAE Denoised\")\n",
    "        axs[3].set_title(\"GMM Denoised\")\n",
    "        for k, dns in enumerate(results[i, j]):\n",
    "            axs[k].plot(dns, linewidth=0.5, label=(\"noisy\" if k == 0 else \"denoised\"))\n",
    "            axs[k].plot(nf, linewidth=0.5, label=\"clean\")\n",
    "            axs[k].text(0.5, 0.8, f\"snr = {calc_snr(nf, dns):.2f}\", transform=axs[k].transAxes)\n",
    "            axs[k].legend(loc=\"lower right\")\n",
    "        fig.savefig(f\"out/pd_out/persigsnr/sig{i}snr{snr}.png\")\n",
    "plt.ion()\n"
   ]
  },
  {
   "cell_type": "code",
   "execution_count": null,
   "metadata": {},
   "outputs": [],
   "source": []
  }
 ],
 "metadata": {
  "kernelspec": {
   "display_name": ".venv",
   "language": "python",
   "name": "python3"
  },
  "language_info": {
   "codemirror_mode": {
    "name": "ipython",
    "version": 3
   },
   "file_extension": ".py",
   "mimetype": "text/x-python",
   "name": "python",
   "nbconvert_exporter": "python",
   "pygments_lexer": "ipython3",
   "version": "3.10.8"
  },
  "orig_nbformat": 4
 },
 "nbformat": 4,
 "nbformat_minor": 2
}
